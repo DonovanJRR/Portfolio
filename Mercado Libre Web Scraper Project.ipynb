{
 "cells": [
  {
   "cell_type": "code",
   "execution_count": null,
   "id": "aac180df",
   "metadata": {},
   "outputs": [],
   "source": [
    "# import libraries \n",
    "\n",
    "from bs4 import BeautifulSoup\n",
    "import requests\n",
    "import time\n",
    "import datetime\n",
    "import csv \n",
    "\n",
    "\n",
    "import smtplib"
   ]
  },
  {
   "cell_type": "code",
   "execution_count": 66,
   "id": "3ea55699",
   "metadata": {},
   "outputs": [
    {
     "name": "stdout",
     "output_type": "stream",
     "text": [
      "Title: Sony PlayStation 5 825GB Standard color  blanco y negro\n",
      "Price: 9,499\n"
     ]
    }
   ],
   "source": [
    "URL = \"https://www.mercadolibre.com.mx/sony-playstation-5-825gb-standard-color-blanco-y-negro/p/MLM16171888?pdp_filters=category:MLM167860#searchVariation=MLM16171888&position=1&search_layout=stack&type=product&tracking_id=fdd9f41a-4e0c-4a03-90ce-5a64251da533\"\n",
    "\n",
    "headers = {\n",
    "    \"User-Agent\": \"Mozilla/5.0 (Windows NT 10.0; Win64; x64) AppleWebKit/537.36 (KHTML, like Gecko) Chrome/78.0.3904.108 Safari/537.36\",\n",
    "    \"Accept-Encoding\": \"gzip, deflate\",\n",
    "    \"Accept\": \"text/html,application/xhtml+xml,application/xml;q=0.9,*/*;q=0.8\",\n",
    "    \"DNT\": \"1\",\n",
    "    \"Connection\": \"close\",\n",
    "    \"Upgrade-Insecure-Requests\": \"1\",\n",
    "}\n",
    "\n",
    "page = requests.get(URL, headers=headers)\n",
    "\n",
    "soup1 = BeautifulSoup(page.content, \"html.parser\")\n",
    "\n",
    "# Extract the title\n",
    "title = soup1.find(class_=\"ui-pdp-title\").get_text()\n",
    "\n",
    "# Extract the price\n",
    "price_element = soup1.find(\"span\", class_=\"andes-money-amount__fraction\")\n",
    "price = price_element.get_text() if price_element else \"Price not found\"\n",
    "\n",
    "print(\"Title:\", title)\n",
    "print(\"Price:\", price)\n",
    "\n"
   ]
  },
  {
   "cell_type": "code",
   "execution_count": 67,
   "id": "d0a5ed98",
   "metadata": {},
   "outputs": [
    {
     "name": "stdout",
     "output_type": "stream",
     "text": [
      "2023-09-23\n"
     ]
    }
   ],
   "source": [
    "# Create a Timestamp for your output to track when data was collected\n",
    "\n",
    "import datetime\n",
    "\n",
    "today = datetime.date.today()\n",
    "\n",
    "print(today)\n"
   ]
  },
  {
   "cell_type": "code",
   "execution_count": 70,
   "id": "e919ced9",
   "metadata": {},
   "outputs": [],
   "source": [
    "# Create CSV and write headers and data into the file\n",
    "\n",
    "import csv \n",
    "\n",
    "header = ['Title', 'Price', 'Date']\n",
    "data = [title, price, today]\n",
    "\n",
    "with open('MercadoLibreWebScraperDataset.csv', 'w', newline='', encoding='UTF8') as f:\n",
    "    writer = csv.writer(f)\n",
    "    writer.writerow(header)\n",
    "    writer.writerow(data)"
   ]
  },
  {
   "cell_type": "code",
   "execution_count": 97,
   "id": "af67c50b",
   "metadata": {},
   "outputs": [
    {
     "name": "stdout",
     "output_type": "stream",
     "text": [
      "                                               Title   Price        Date\n",
      "0  Sony PlayStation 5 825GB Standard color  blanc...   9,499  2023-09-23\n",
      "1  Sony PlayStation 5 825GB Standard color  blanc...   9,499  2023-09-23\n",
      "2  Sony PlayStation 5 825GB Standard color  blanc...   9,499  2023-09-23\n",
      "3  Sony PlayStation 5 825GB Standard color  blanc...   9,499  2023-09-23\n",
      "4  Sony PlayStation 5 825GB Standard color  blanc...   9,499  2023-09-23\n",
      "5  Sony PlayStation 5 825GB Standard color  blanc...   9,499  2023-09-23\n",
      "6  Sony PlayStation 5 825GB Standard color  blanc...   9,499  2023-09-23\n",
      "7  Sony PlayStation 5 825GB Standard color  blanc...  11,899  2023-09-23\n",
      "8  Sony PlayStation 5 825GB Standard color  blanc...   9,499  2023-09-23\n"
     ]
    }
   ],
   "source": [
    "import pandas as pd\n",
    "\n",
    "df = pd.read_csv(\"/Users/donovanrodriguez/MercadoLibreWebScraperDataset.csv\")\n",
    "\n",
    "print(df)"
   ]
  },
  {
   "cell_type": "code",
   "execution_count": null,
   "id": "8311dc3b",
   "metadata": {},
   "outputs": [],
   "source": []
  },
  {
   "cell_type": "code",
   "execution_count": 96,
   "id": "efb4a0b6",
   "metadata": {},
   "outputs": [],
   "source": [
    "#Now we are appending data to the csv\n",
    "\n",
    "with open('MercadoLibreWebScraperDataset.csv', 'a+', newline='', encoding='UTF8') as f:\n",
    "    writer = csv.writer(f)\n",
    "    writer.writerow(data)"
   ]
  },
  {
   "cell_type": "code",
   "execution_count": 99,
   "id": "28848252",
   "metadata": {},
   "outputs": [],
   "source": [
    "import requests\n",
    "from bs4 import BeautifulSoup\n",
    "\n",
    "def checkprice():\n",
    "    URL = \"https://www.mercadolibre.com.mx/sony-playstation-5-825gb-standard-color-blanco-y-negro/p/MLM16171888?pdp_filters=category:MLM167860#searchVariation=MLM16171888&position=1&search_layout=stack&type=product&tracking_id=fdd9f41a-4e0c-4a03-90ce-5a64251da533\"\n",
    "\n",
    "    headers = {\n",
    "        \"User-Agent\": \"Mozilla/5.0 (Windows NT 10.0; Win64; x64) AppleWebKit/537.36 (KHTML, like Gecko) Chrome/78.0.3904.108 Safari/537.36\",\n",
    "        \"Accept-Encoding\": \"gzip, deflate\",\n",
    "        \"Accept\": \"text/html,application/xhtml+xml,application/xml;q=0.9,*/*;q=0.8\",\n",
    "        \"DNT\": \"1\",\n",
    "        \"Connection\": \"close\",\n",
    "        \"Upgrade-Insecure-Requests\": \"1\",\n",
    "    }\n",
    "\n",
    "    page = requests.get(URL, headers=headers)\n",
    "    soup1 = BeautifulSoup(page.content, \"html.parser\")\n",
    "\n",
    "    # Extract the title\n",
    "    title = soup1.find(class_=\"ui-pdp-title\").get_text()\n",
    "\n",
    "    # Extract the price\n",
    "    price_element = soup1.find(\"span\", class_=\"andes-money-amount__fraction\")\n",
    "    price = price_element.get_text() if price_element else \"Price not found\"\n",
    "\n",
    "    today = datetime.date.today()\n",
    "\n",
    "    header = ['Title', 'Price', 'Date']\n",
    "    data = [title, price, today]\n",
    "\n",
    "    with open('MercadoLibreWebScraperDataset.csv', 'a+', newline='', encoding='UTF8') as f:\n",
    "        writer = csv.writer(f)\n",
    "        writer.writerow(data)"
   ]
  },
  {
   "cell_type": "code",
   "execution_count": 94,
   "id": "ebbf4afc",
   "metadata": {},
   "outputs": [
    {
     "ename": "KeyboardInterrupt",
     "evalue": "",
     "output_type": "error",
     "traceback": [
      "\u001b[0;31m---------------------------------------------------------------------------\u001b[0m",
      "\u001b[0;31mKeyboardInterrupt\u001b[0m                         Traceback (most recent call last)",
      "Cell \u001b[0;32mIn[94], line 5\u001b[0m\n\u001b[1;32m      3\u001b[0m \u001b[38;5;28;01mwhile\u001b[39;00m(\u001b[38;5;28;01mTrue\u001b[39;00m):\n\u001b[1;32m      4\u001b[0m     checkprice()\n\u001b[0;32m----> 5\u001b[0m     time\u001b[38;5;241m.\u001b[39msleep(\u001b[38;5;241m86400\u001b[39m)\n",
      "\u001b[0;31mKeyboardInterrupt\u001b[0m: "
     ]
    }
   ],
   "source": [
    "# Runs check_price after a set time and inputs data into your CSV\n",
    "\n",
    "while(True):\n",
    "    checkprice()\n",
    "    time.sleep(86400)"
   ]
  },
  {
   "cell_type": "code",
   "execution_count": 98,
   "id": "4dd322fc",
   "metadata": {},
   "outputs": [
    {
     "name": "stdout",
     "output_type": "stream",
     "text": [
      "                                               Title   Price        Date\n",
      "0  Sony PlayStation 5 825GB Standard color  blanc...   9,499  2023-09-23\n",
      "1  Sony PlayStation 5 825GB Standard color  blanc...   9,499  2023-09-23\n",
      "2  Sony PlayStation 5 825GB Standard color  blanc...   9,499  2023-09-23\n",
      "3  Sony PlayStation 5 825GB Standard color  blanc...   9,499  2023-09-23\n",
      "4  Sony PlayStation 5 825GB Standard color  blanc...   9,499  2023-09-23\n",
      "5  Sony PlayStation 5 825GB Standard color  blanc...   9,499  2023-09-23\n",
      "6  Sony PlayStation 5 825GB Standard color  blanc...   9,499  2023-09-23\n",
      "7  Sony PlayStation 5 825GB Standard color  blanc...  11,899  2023-09-23\n",
      "8  Sony PlayStation 5 825GB Standard color  blanc...   9,499  2023-09-23\n"
     ]
    }
   ],
   "source": [
    "import pandas as pd\n",
    "\n",
    "df = pd.read_csv(\"/Users/donovanrodriguez/MercadoLibreWebScraperDataset.csv\")\n",
    "\n",
    "print(df)"
   ]
  },
  {
   "cell_type": "code",
   "execution_count": null,
   "id": "9b6e7ef0",
   "metadata": {},
   "outputs": [],
   "source": [
    "# If uou want to try sending yourself an email (just for fun) when a price hits below a certain level you can try it\n",
    "# out with this script\n",
    "\n",
    "def send_mail():\n",
    "    server = smtplib.SMTP_SSL('smtp.gmail.com',465)\n",
    "    server.ehlo()\n",
    "    #server.starttls()\n",
    "    server.ehlo()\n",
    "    server.login('dojarore@gmail.com','xxxxxxxxxxxxxx')\n",
    "    \n",
    "    subject = \"The playstation is below $9000! Now is your chance to buy!\"\n",
    "    body = \"Donovan , This is the moment we have been waiting for. Now is your chance to pick up the shirt of your dreams. Don't mess it up! Link here: https://www.amazon.com/Funny-Data-Systems-Business-Analyst/dp/B07FNW9FGJ/ref=sr_1_3?dchild=1&keywords=data+analyst+tshirt&qid=1626655184&sr=8-3\"\n",
    "   \n",
    "    msg = f\"Subject: {subject}\\n\\n{body}\"\n",
    "    \n",
    "    server.sendmail(\n",
    "        'dojarore@gmail.com',\n",
    "        msg\n",
    "     \n",
    "    )"
   ]
  }
 ],
 "metadata": {
  "kernelspec": {
   "display_name": "Python 3 (ipykernel)",
   "language": "python",
   "name": "python3"
  },
  "language_info": {
   "codemirror_mode": {
    "name": "ipython",
    "version": 3
   },
   "file_extension": ".py",
   "mimetype": "text/x-python",
   "name": "python",
   "nbconvert_exporter": "python",
   "pygments_lexer": "ipython3",
   "version": "3.11.4"
  }
 },
 "nbformat": 4,
 "nbformat_minor": 5
}
